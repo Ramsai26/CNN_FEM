{
 "cells": [
  {
   "cell_type": "markdown",
   "metadata": {},
   "source": [
    "# Using Convolutional Neural Networks to Accelerate Finite Element Analysis\n",
    "Faraz Arbabi\n",
    "\n",
    "<a href=\\\"mailto:faraz@gnowise.com\\\">faraz@gnowise.com</a>\n",
    "\n",
    "Modeling of physical systems includes extensive use of software packages that implement the accurate finite element method for solving differential equations considered along with the appropriate initial and boundary conditions. When the problem size becomes large, time needed to solve the resulting linear systems may range from hours to weeks, and if the input parameters need to be adjusted, even slightly, the simulations has to be re-done from scratch. Recent advances in machine learning algorithms and their successful applications in various fields demonstrate that, if properly chosen and trained, these models can significantly improve conventional techniques. In this note we discuss possibilities to complement the finite element studies with machine learning and provide a case study."
   ]
  },
  {
   "cell_type": "markdown",
   "metadata": {},
   "source": [
    "## Introduction\n",
    "bla bla"
   ]
  },
  {
   "cell_type": "code",
   "execution_count": 3,
   "metadata": {
    "collapsed": false
   },
   "outputs": [
    {
     "data": {
      "text/plain": [
       "Name: Compile Error\n",
       "Message: <console>:1: error: ';' expected but identifier found.\n",
       "       import sklearn.model_selection as skms\n",
       "                                      ^\n",
       "StackTrace: "
      ]
     },
     "execution_count": 3,
     "metadata": {},
     "output_type": "execute_result"
    }
   ],
   "source": [
    "import sklearn.model_selection as skms"
   ]
  },
  {
   "cell_type": "code",
   "execution_count": 4,
   "metadata": {
    "collapsed": false
   },
   "outputs": [
    {
     "data": {
      "text/plain": [
       "Name: Compile Error\n",
       "Message: <console>:1: error: '.' expected but identifier found.\n",
       "       import numpy as np\n",
       "                    ^\n",
       "StackTrace: "
      ]
     },
     "execution_count": 4,
     "metadata": {},
     "output_type": "execute_result"
    }
   ],
   "source": [
    "import numpy as np\n",
    "import glob \n",
    "\n",
    "import sklearn.model_selection as skms\n",
    "\n",
    "import keras.layers as kl\n",
    "import keras.models as km\n",
    "\n",
    "######################################################################\n",
    "\n",
    "def get_data():\n",
    "\n",
    "        allfiles = glob.glob('surfaceCSVs\\\\*.csv')\n",
    "\n",
    "        num_datapoints = 1071\n",
    "\n",
    "        in_data = np.zeros([len(allfiles) * num_datapoints, 3])\n",
    "        out_data = np.zeros(len(allfiles) * num_datapoints)\n",
    "\n",
    "\n",
    "        for i, datafile in enumerate(allfiles):\n",
    "\n",
    "                force = int(datafile.split('\\\\')[1].split('-')[0]) / float(50000)\n",
    "               # print(force)\n",
    "                # put the force in\n",
    "                in_data[i * num_datapoints:\n",
    "                        (i + 1) * num_datapoints, 0] = \\\n",
    "                                np.array([force] * num_datapoints)\n",
    "                \n",
    "                data = np.loadtxt(fname = datafile, delimiter = ' ')\n",
    "                \n",
    "                # get the x data\n",
    "                in_data[i * num_datapoints:\n",
    "                        (i + 1) * num_datapoints, 1] = data[:, 0]\n",
    "                \n",
    "                # get the y data\n",
    "                in_data[i * num_datapoints:\n",
    "                        (i + 1) * num_datapoints, 2] = data[:, 1]\n",
    "                \n",
    "                # get sigma\n",
    "                out_data[i * num_datapoints:\n",
    "                         (i + 1) * num_datapoints] = data[:, 3] / float(50000)\n",
    "        \n",
    "\n",
    "        return skms.train_test_split(in_data, out_data,\n",
    "                                     test_size = 0.1)\n",
    "        \n",
    "\n",
    "######################################################################\n",
    "\n",
    "\n",
    "def build_model(numnodes):\n",
    "\n",
    "        model = km.Sequential()\n",
    "\n",
    "        model.add(kl.Dense(numnodes, input_dim = 3,\n",
    "                           activation = 'sigmoid'))\n",
    "\n",
    "        model.add(kl.Dense(numnodes, activation = 'sigmoid'))\n",
    "\n",
    "        model.add(kl.Dense(1, activation = 'linear'))\n",
    "\n",
    "        return model\n",
    "\n",
    "\n",
    "######################################################################\n",
    "\n",
    "def abs_pred(y_true, y_pred):\n",
    "        return abs((y_true - y_pred) / y_true) < 0.1\n",
    "\n",
    "######################################################################\n",
    "\n",
    "def build_model2(numnodes):\n",
    "\n",
    "        input_position = kl.Input(shape = (2,))\n",
    "        input_force = kl.Input(shape = (1,))\n",
    "\n",
    "        x_position = kl.Dense(numnodes,\n",
    "                              activation = 'tanh')(input_position)\n",
    "\n",
    "        x_force = kl.Dense(numnodes, activation = 'relu')(input_force)\n",
    "\n",
    "        x = kl.concatenate(inputs = [x_position, x_force])\n",
    "        #x = kl.multiply(inputs = [x_position, x_force])\n",
    "        \n",
    "        x = kl.Dense(numnodes, activation = 'tanh')(x)\n",
    "\n",
    "        x = kl.Dense(numnodes, activation = 'tanh')(x)\n",
    "\n",
    "        x = kl.Dense(1, activation = 'linear')(x)\n",
    "        \n",
    "        model = km.Model(inputs = [input_position, input_force],\n",
    "                         outputs = x)\n",
    "\n",
    "        return model\n",
    "\n"
   ]
  },
  {
   "cell_type": "code",
   "execution_count": 3,
   "metadata": {
    "collapsed": false
   },
   "outputs": [
    {
     "data": {
      "text/plain": [
       "Name: Compile Error\n",
       "Message: <console>:19: error: not found: value pip\n",
       "              pip install --farazarbabi keras\n",
       "              ^\n",
       "StackTrace: "
      ]
     },
     "execution_count": 3,
     "metadata": {},
     "output_type": "execute_result"
    }
   ],
   "source": [
    "pip install --farazarbabi keras"
   ]
  },
  {
   "cell_type": "code",
   "execution_count": null,
   "metadata": {
    "collapsed": true
   },
   "outputs": [],
   "source": [
    " !(cd ~/data/libs/ ; wget URL_to_jar_file)"
   ]
  }
 ],
 "metadata": {
  "kernelspec": {
   "display_name": "Apache Toree - Scala",
   "language": "scala",
   "name": "apache_toree_scala"
  },
  "language_info": {
   "name": "scala",
   "version": "2.10.4"
  },
  "widgets": {
   "state": {},
   "version": "1.1.2"
  }
 },
 "nbformat": 4,
 "nbformat_minor": 0
}
